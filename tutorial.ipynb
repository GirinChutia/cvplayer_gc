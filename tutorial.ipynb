{
 "cells": [
  {
   "attachments": {},
   "cell_type": "markdown",
   "metadata": {},
   "source": [
    "# cvplayer tutorial\n",
    " \n",
    "\n",
    "In this tutorial we will learn how to use cvplayer to create a video and image player for yout model with just a few lines of code.\n",
    "\n",
    "The repository is divided in 2 main parts:\n",
    "\n",
    "1. The VideoPlayer\n",
    "2. The ImagePlayer\n",
    "\n",
    "NOTE: Everthing you can do with the VideoPlayer you can do with the ImagePlayer, the only difference is on the declaration."
   ]
  },
  {
   "attachments": {},
   "cell_type": "markdown",
   "metadata": {},
   "source": [
    "## The VideoPlayer !\n",
    "1. Is a class that you can use to create a video player that will call yout custom method on each frame of the video.\n",
    "2. The VideoPlayer can jump to a specific frame, pause, play, change the speed of the video and more.\n",
    "3. To use the VideoPlayer you need to create a class that implement the custom_method.\n",
    "4. The custom_method is the method that will be called on each frame of the video.\n",
    "5. The custom_method must receive a numpy array with 3 channels and return a numpy array with 3 channels.\n",
    "\n",
    "### Controls\n",
    "\n",
    "Besides the mouse controls, the VideoPlayer has some keyboard shortcuts:\n",
    "\n",
    "- Play and pause the video by pressing the space bar.\n",
    "- Jump to the next and previous frame by pressing the right and left arrow keys.\n",
    "- Change the speed of the video by pressing the up and down arrow keys.\n",
    "- Switch and add videos new videos using the videos list and the add videos button.\n",
    "\n",
    "\n",
    "Here is an example with a custom method that just write a random number on the image"
   ]
  },
  {
   "cell_type": "code",
   "execution_count": null,
   "metadata": {},
   "outputs": [],
   "source": [
    "#import the VideoPlayer class\n",
    "from cvplayer import VideoPlayer\n",
    "import cv2 #import opencv to write on the image\n",
    "import random #import random to generate a random number\n",
    "\n",
    "class CustomBase(): \n",
    "    def __init__(self) -> None: #in this case we don't need to initialize anything\n",
    "        pass\n",
    "    \n",
    "    def custom_method(self, numpy_image): #method to be called on each frame and do whatever you want\n",
    "        #NOTE: the name of the method MUST be custom_method\n",
    "        #NOTE: the method MUST receive a numpy array with 3 channels and return a numpy array with 3 channels\n",
    "\n",
    "        cv2.putText(numpy_image, str(random.randint(0,100)), (150, 150), cv2.FONT_HERSHEY_SIMPLEX, 5, (255, 0, 0), 10) #write a random number on the image\n",
    "        \n",
    "        return numpy_image #return the image with the changes\n",
    "    \n",
    "VideoPlayer(CustomBase()) #pass the class to the VideoPlayer and start the player\n",
    "\n"
   ]
  },
  {
   "attachments": {},
   "cell_type": "markdown",
   "metadata": {},
   "source": [
    "## The ImagePlayer !\n",
    "1. Is a class that you can use to create a image player that will call yout custom method on each image.\n",
    "2. The ImagePlayer can jump to a specific image, zoom in, zoom out, and more.\n",
    "3. To use the ImagePlayer you need to create a class that implement the custom_method.\n",
    "4. The custom_method is the method that will be called on each image.\n",
    "5. The custom_method must receive a numpy array with 3 channels and return a numpy array with 3 channels.\n",
    "6. The ImagePlayer supports the following image formats: .jpg, .png, .jpeg, .tif, .npy\n",
    "7. You can jump to the next and previous image by pressing the right and left arrow keys.\n",
    "\n",
    "NOTE: The ImagePlayer supports .npy with more than 3 channels, but it will only show the first 3 channels, and your custom method will only receive the first 3 channels.\n",
    "\n",
    "\n",
    "Here is an example with a custom method but now lets use an object detection model to detect objects on the image"
   ]
  },
  {
   "cell_type": "code",
   "execution_count": null,
   "metadata": {},
   "outputs": [],
   "source": [
    "from cvplayer import ImagePlayer #import the ImagePlayer class\n",
    "from ultralytics import YOLO #import the YOLO model\n",
    "import cv2 #import opencv to write on the image\n",
    "\n",
    "# yolov8 example\n",
    "class CustomBase(): \n",
    "    def __init__(self) -> None:\n",
    "        #NOTE: always initialize your model in the constructor\n",
    "        self.model = YOLO(\"yolov8s.pt\")  # load a pretrained model \n",
    "    \n",
    "    def custom_method(self, numpy_image): #method to be called on each frame and do whatever you want\n",
    "        #NOTE: the name of the method MUST be custom_method\n",
    "        #NOTE: the method MUST receive a numpy array with 3 channels and return a numpy array with 3 channels\n",
    "\n",
    "        results = self.model(numpy_image)  # predict on an image\n",
    "        for result in results:\n",
    "            boxes = result.boxes  # Boxes object for bbox outputs\n",
    "            classes = result.names\n",
    "            for box in boxes: #loop through the boxes and draw them on the image with the class name\n",
    "                cv2.rectangle(numpy_image, (int(box.xyxy[0][0]), int(box.xyxy[0][1])), (int(box.xyxy[0][2]), int(box.xyxy[0][3])), (0, 255, 0), 2)\n",
    "                cv2.putText(numpy_image, classes[int(box.cls)], (int(box.xyxy[0][0]), int(box.xyxy[0][1])), cv2.FONT_HERSHEY_SIMPLEX, 2, (0, 255, 0), 4)\n",
    "        \n",
    "        return numpy_image #return the image with the changes (numpy array with 3 channels)\n",
    "    \n",
    "ImagePlayer(CustomBase()) #pass the class to the ImagePlayer and start the player\n",
    "\n"
   ]
  }
 ],
 "metadata": {
  "kernelspec": {
   "display_name": "egetra",
   "language": "python",
   "name": "python3"
  },
  "language_info": {
   "codemirror_mode": {
    "name": "ipython",
    "version": 3
   },
   "file_extension": ".py",
   "mimetype": "text/x-python",
   "name": "python",
   "nbconvert_exporter": "python",
   "pygments_lexer": "ipython3",
   "version": "3.8.15"
  },
  "orig_nbformat": 4
 },
 "nbformat": 4,
 "nbformat_minor": 2
}
